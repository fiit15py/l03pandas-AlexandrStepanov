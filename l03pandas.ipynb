{
 "cells": [
  {
   "cell_type": "code",
   "execution_count": 1,
   "metadata": {},
   "outputs": [],
   "source": [
    "import pandas as pd\n"
   ]
  },
  {
   "cell_type": "code",
   "execution_count": 123,
   "metadata": {},
   "outputs": [
    {
     "data": {
      "text/html": [
       "<div>\n",
       "<style scoped>\n",
       "    .dataframe tbody tr th:only-of-type {\n",
       "        vertical-align: middle;\n",
       "    }\n",
       "\n",
       "    .dataframe tbody tr th {\n",
       "        vertical-align: top;\n",
       "    }\n",
       "\n",
       "    .dataframe thead th {\n",
       "        text-align: right;\n",
       "    }\n",
       "</style>\n",
       "<table border=\"1\" class=\"dataframe\">\n",
       "  <thead>\n",
       "    <tr style=\"text-align: right;\">\n",
       "      <th></th>\n",
       "      <th>Улус;Администр. центр;Площадь</th>\n",
       "      <th>тыс.км2;Численность населения (2002  г.)</th>\n",
       "      <th>чел;Расст до Якт наземным;Расст до Якт водным;Расст до Якт воздушным;городов респ;городов улусного;поселков;сел;наслегов</th>\n",
       "    </tr>\n",
       "  </thead>\n",
       "  <tbody>\n",
       "    <tr>\n",
       "      <th>0</th>\n",
       "      <td>Абыйский;п. Белая Гора;69</td>\n",
       "      <td>4;4750;1950/2900;3243;1148;-;-;1;6;5</td>\n",
       "      <td>NaN</td>\n",
       "    </tr>\n",
       "    <tr>\n",
       "      <th>1</th>\n",
       "      <td>Алданский;г. Алдан;156</td>\n",
       "      <td>8;49346;534;-;470;-;2;4;13;3</td>\n",
       "      <td>NaN</td>\n",
       "    </tr>\n",
       "    <tr>\n",
       "      <th>2</th>\n",
       "      <td>Аллаиховский;п. Чокурдах;107</td>\n",
       "      <td>3;3421;2700;2830;1290;-;-;1;6;5</td>\n",
       "      <td>NaN</td>\n",
       "    </tr>\n",
       "    <tr>\n",
       "      <th>3</th>\n",
       "      <td>Амгинский;с. Амга;29</td>\n",
       "      <td>4;17251;201;1036;200;-;-;-;21;14</td>\n",
       "      <td>NaN</td>\n",
       "    </tr>\n",
       "    <tr>\n",
       "      <th>4</th>\n",
       "      <td>Анабарский;с. Саскылах;55</td>\n",
       "      <td>6;4024;2621;2835;1285;-;-;-;3;3</td>\n",
       "      <td>NaN</td>\n",
       "    </tr>\n",
       "  </tbody>\n",
       "</table>\n",
       "</div>"
      ],
      "text/plain": [
       "  Улус;Администр. центр;Площадь  тыс.км2;Численность населения (2002  г.)  \\\n",
       "0     Абыйский;п. Белая Гора;69      4;4750;1950/2900;3243;1148;-;-;1;6;5   \n",
       "1        Алданский;г. Алдан;156              8;49346;534;-;470;-;2;4;13;3   \n",
       "2  Аллаиховский;п. Чокурдах;107           3;3421;2700;2830;1290;-;-;1;6;5   \n",
       "3          Амгинский;с. Амга;29          4;17251;201;1036;200;-;-;-;21;14   \n",
       "4     Анабарский;с. Саскылах;55           6;4024;2621;2835;1285;-;-;-;3;3   \n",
       "\n",
       "    чел;Расст до Якт наземным;Расст до Якт водным;Расст до Якт воздушным;городов респ;городов улусного;поселков;сел;наслегов  \n",
       "0                                                NaN                                                                          \n",
       "1                                                NaN                                                                          \n",
       "2                                                NaN                                                                          \n",
       "3                                                NaN                                                                          \n",
       "4                                                NaN                                                                          "
      ]
     },
     "execution_count": 123,
     "metadata": {},
     "output_type": "execute_result"
    }
   ],
   "source": [
    "df = pd.read_csv('ulus.csv')\n",
    "df.head()"
   ]
  },
  {
   "cell_type": "code",
   "execution_count": 124,
   "metadata": {},
   "outputs": [
    {
     "data": {
      "text/html": [
       "<div>\n",
       "<style scoped>\n",
       "    .dataframe tbody tr th:only-of-type {\n",
       "        vertical-align: middle;\n",
       "    }\n",
       "\n",
       "    .dataframe tbody tr th {\n",
       "        vertical-align: top;\n",
       "    }\n",
       "\n",
       "    .dataframe thead th {\n",
       "        text-align: right;\n",
       "    }\n",
       "</style>\n",
       "<table border=\"1\" class=\"dataframe\">\n",
       "  <thead>\n",
       "    <tr style=\"text-align: right;\">\n",
       "      <th></th>\n",
       "      <th>Улус</th>\n",
       "      <th>Администр. центр</th>\n",
       "      <th>Площадь, тыс.км2</th>\n",
       "      <th>Численность населения (2002  г.), чел</th>\n",
       "      <th>Расст до Якт наземным</th>\n",
       "      <th>Расст до Якт водным</th>\n",
       "      <th>Расст до Якт воздушным</th>\n",
       "      <th>городов респ</th>\n",
       "      <th>городов улусного</th>\n",
       "      <th>поселков</th>\n",
       "      <th>сел</th>\n",
       "      <th>наслегов</th>\n",
       "    </tr>\n",
       "  </thead>\n",
       "  <tbody>\n",
       "    <tr>\n",
       "      <th>0</th>\n",
       "      <td>Абыйский</td>\n",
       "      <td>п. Белая Гора</td>\n",
       "      <td>69,4</td>\n",
       "      <td>4750.0</td>\n",
       "      <td>1950/2900</td>\n",
       "      <td>3243</td>\n",
       "      <td>1148</td>\n",
       "      <td>-</td>\n",
       "      <td>-</td>\n",
       "      <td>1</td>\n",
       "      <td>6.0</td>\n",
       "      <td>5.0</td>\n",
       "    </tr>\n",
       "    <tr>\n",
       "      <th>1</th>\n",
       "      <td>Алданский</td>\n",
       "      <td>г. Алдан</td>\n",
       "      <td>156,8</td>\n",
       "      <td>49346.0</td>\n",
       "      <td>534</td>\n",
       "      <td>-</td>\n",
       "      <td>470</td>\n",
       "      <td>-</td>\n",
       "      <td>2</td>\n",
       "      <td>4</td>\n",
       "      <td>13.0</td>\n",
       "      <td>3.0</td>\n",
       "    </tr>\n",
       "    <tr>\n",
       "      <th>2</th>\n",
       "      <td>Аллаиховский</td>\n",
       "      <td>п. Чокурдах</td>\n",
       "      <td>107,3</td>\n",
       "      <td>3421.0</td>\n",
       "      <td>2700</td>\n",
       "      <td>2830</td>\n",
       "      <td>1290</td>\n",
       "      <td>-</td>\n",
       "      <td>-</td>\n",
       "      <td>1</td>\n",
       "      <td>6.0</td>\n",
       "      <td>5.0</td>\n",
       "    </tr>\n",
       "    <tr>\n",
       "      <th>3</th>\n",
       "      <td>Амгинский</td>\n",
       "      <td>с. Амга</td>\n",
       "      <td>29,4</td>\n",
       "      <td>17251.0</td>\n",
       "      <td>201</td>\n",
       "      <td>1036</td>\n",
       "      <td>200</td>\n",
       "      <td>-</td>\n",
       "      <td>-</td>\n",
       "      <td>-</td>\n",
       "      <td>21.0</td>\n",
       "      <td>14.0</td>\n",
       "    </tr>\n",
       "    <tr>\n",
       "      <th>4</th>\n",
       "      <td>Анабарский</td>\n",
       "      <td>с. Саскылах</td>\n",
       "      <td>55,6</td>\n",
       "      <td>4024.0</td>\n",
       "      <td>2621</td>\n",
       "      <td>2835</td>\n",
       "      <td>1285</td>\n",
       "      <td>-</td>\n",
       "      <td>-</td>\n",
       "      <td>-</td>\n",
       "      <td>3.0</td>\n",
       "      <td>3.0</td>\n",
       "    </tr>\n",
       "  </tbody>\n",
       "</table>\n",
       "</div>"
      ],
      "text/plain": [
       "           Улус Администр. центр Площадь, тыс.км2  \\\n",
       "0      Абыйский    п. Белая Гора             69,4   \n",
       "1     Алданский         г. Алдан            156,8   \n",
       "2  Аллаиховский      п. Чокурдах            107,3   \n",
       "3     Амгинский          с. Амга             29,4   \n",
       "4    Анабарский      с. Саскылах             55,6   \n",
       "\n",
       "   Численность населения (2002  г.), чел Расст до Якт наземным  \\\n",
       "0                                 4750.0             1950/2900   \n",
       "1                                49346.0                   534   \n",
       "2                                 3421.0                  2700   \n",
       "3                                17251.0                   201   \n",
       "4                                 4024.0                  2621   \n",
       "\n",
       "  Расст до Якт водным Расст до Якт воздушным городов респ городов улусного  \\\n",
       "0                3243                   1148            -                -   \n",
       "1                   -                    470            -                2   \n",
       "2                2830                   1290            -                -   \n",
       "3                1036                    200            -                -   \n",
       "4                2835                   1285            -                -   \n",
       "\n",
       "  поселков   сел  наслегов  \n",
       "0        1   6.0       5.0  \n",
       "1        4  13.0       3.0  \n",
       "2        1   6.0       5.0  \n",
       "3        -  21.0      14.0  \n",
       "4        -   3.0       3.0  "
      ]
     },
     "execution_count": 124,
     "metadata": {},
     "output_type": "execute_result"
    }
   ],
   "source": [
    "df = pd.read_csv('ulus.csv', sep=';')\n",
    "df.head()"
   ]
  },
  {
   "cell_type": "code",
   "execution_count": 131,
   "metadata": {},
   "outputs": [],
   "source": [
    "def replace_comma(s):\n",
    "    if type(s)==str:\n",
    "         if s.find('/')!=-1: \n",
    "            return s[0:(s.find('/')):1]if type(s)==str else '0'\n",
    "    return s\n"
   ]
  },
  {
   "cell_type": "code",
   "execution_count": 126,
   "metadata": {},
   "outputs": [],
   "source": [
    "def delete(s):\n",
    "    return '0' if s is '-' else s"
   ]
  },
  {
   "cell_type": "code",
   "execution_count": 132,
   "metadata": {},
   "outputs": [],
   "source": [
    "df['Расст до Якт наземным']=df['Расст до Якт наземным'].apply(replace_comma)"
   ]
  },
  {
   "cell_type": "code",
   "execution_count": 135,
   "metadata": {},
   "outputs": [],
   "source": [
    "df['Расст до Якт наземным']=df['Расст до Якт наземным'].apply(delete)"
   ]
  },
  {
   "cell_type": "code",
   "execution_count": 136,
   "metadata": {},
   "outputs": [],
   "source": [
    "df['Расст до Якт наземным']=pd.to_numeric(df['Расст до Якт наземным'])"
   ]
  },
  {
   "cell_type": "code",
   "execution_count": 137,
   "metadata": {},
   "outputs": [],
   "source": [
    "df['Расст до Якт воздушным']=df['Расст до Якт воздушным'].apply(delete)"
   ]
  },
  {
   "cell_type": "code",
   "execution_count": 138,
   "metadata": {},
   "outputs": [],
   "source": [
    "df['Расст до Якт воздушным']=pd.to_numeric(df['Расст до Якт воздушным'])"
   ]
  },
  {
   "cell_type": "code",
   "execution_count": 108,
   "metadata": {},
   "outputs": [],
   "source": [
    "df=df.drop([24])"
   ]
  },
  {
   "cell_type": "code",
   "execution_count": 140,
   "metadata": {},
   "outputs": [],
   "source": [
    "df['otnoshinei']=df['Расст до Якт наземным']/df['Расст до Якт воздушным']"
   ]
  },
  {
   "cell_type": "code",
   "execution_count": 146,
   "metadata": {},
   "outputs": [],
   "source": [
    "df['otnoshinei']=pd.to_numeric(df['otnoshinei'])"
   ]
  },
  {
   "cell_type": "code",
   "execution_count": 162,
   "metadata": {},
   "outputs": [],
   "source": [
    "def delete_series(s):\n",
    "    if type(s)!=float:\n",
    "        return 0\n",
    "    return s"
   ]
  },
  {
   "cell_type": "code",
   "execution_count": 167,
   "metadata": {},
   "outputs": [],
   "source": [
    "df['otnoshinei']=df['otnoshinei'].apply(delete_series)"
   ]
  },
  {
   "cell_type": "code",
   "execution_count": 164,
   "metadata": {},
   "outputs": [],
   "source": [
    "df['otnoshinei']=pd.to_numeric(df['otnoshinei'])"
   ]
  },
  {
   "cell_type": "code",
   "execution_count": 177,
   "metadata": {},
   "outputs": [],
   "source": [
    "def delete_inf(s):\n",
    "    if s>1000000:\n",
    "        return 0\n",
    "    return s"
   ]
  },
  {
   "cell_type": "code",
   "execution_count": 180,
   "metadata": {},
   "outputs": [],
   "source": [
    "df['otnoshinei']=df['otnoshinei'].apply(delete_inf)"
   ]
  },
  {
   "cell_type": "markdown",
   "metadata": {},
   "source": [
    "# Задание 1"
   ]
  },
  {
   "cell_type": "code",
   "execution_count": 65,
   "metadata": {},
   "outputs": [
    {
     "data": {
      "text/plain": [
       "'Жиганский эвенкийский национальный'"
      ]
     },
     "execution_count": 65,
     "metadata": {},
     "output_type": "execute_result"
    }
   ],
   "source": [
    "df['Улус'][df['plotnost'].idxmin()]"
   ]
  },
  {
   "cell_type": "markdown",
   "metadata": {},
   "source": [
    "# Задание 2"
   ]
  },
  {
   "cell_type": "code",
   "execution_count": 181,
   "metadata": {},
   "outputs": [
    {
     "data": {
      "text/plain": [
       "'Аллаиховский'"
      ]
     },
     "execution_count": 181,
     "metadata": {},
     "output_type": "execute_result"
    }
   ],
   "source": [
    "df['Улус'][df['otnoshinei'].idxmax()]"
   ]
  },
  {
   "cell_type": "code",
   "execution_count": null,
   "metadata": {},
   "outputs": [],
   "source": []
  }
 ],
 "metadata": {
  "kernelspec": {
   "display_name": "Python 3",
   "language": "python",
   "name": "python3"
  },
  "language_info": {
   "codemirror_mode": {
    "name": "ipython",
    "version": 3
   },
   "file_extension": ".py",
   "mimetype": "text/x-python",
   "name": "python",
   "nbconvert_exporter": "python",
   "pygments_lexer": "ipython3",
   "version": "3.7.0"
  }
 },
 "nbformat": 4,
 "nbformat_minor": 2
}
